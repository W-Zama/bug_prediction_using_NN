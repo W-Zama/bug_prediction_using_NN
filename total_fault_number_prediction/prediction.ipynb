{
 "cells": [
  {
   "cell_type": "code",
   "execution_count": 161,
   "metadata": {},
   "outputs": [],
   "source": [
    "import torch\n",
    "import torch.nn as nn\n",
    "import torch.optim as optim\n",
    "import numpy as np\n",
    "import pandas as pd\n",
    "import matplotlib.pyplot as plt\n",
    "from sklearn.preprocessing import MinMaxScaler\n",
    "from sklearn.model_selection import train_test_split\n",
    "from model import PredictModel"
   ]
  },
  {
   "cell_type": "code",
   "execution_count": 162,
   "metadata": {},
   "outputs": [],
   "source": [
    "data_path = '../data/ds2.csv'\n",
    "test_size = .1\n",
    "epochs = 1000"
   ]
  },
  {
   "cell_type": "code",
   "execution_count": 163,
   "metadata": {},
   "outputs": [
    {
     "data": {
      "text/html": [
       "<div>\n",
       "<style scoped>\n",
       "    .dataframe tbody tr th:only-of-type {\n",
       "        vertical-align: middle;\n",
       "    }\n",
       "\n",
       "    .dataframe tbody tr th {\n",
       "        vertical-align: top;\n",
       "    }\n",
       "\n",
       "    .dataframe thead th {\n",
       "        text-align: right;\n",
       "    }\n",
       "</style>\n",
       "<table border=\"1\" class=\"dataframe\">\n",
       "  <thead>\n",
       "    <tr style=\"text-align: right;\">\n",
       "      <th></th>\n",
       "      <th>testing_date</th>\n",
       "      <th>number_of_fault</th>\n",
       "      <th>cum_number_of_fault</th>\n",
       "    </tr>\n",
       "  </thead>\n",
       "  <tbody>\n",
       "    <tr>\n",
       "      <th>0</th>\n",
       "      <td>1</td>\n",
       "      <td>0</td>\n",
       "      <td>0</td>\n",
       "    </tr>\n",
       "    <tr>\n",
       "      <th>1</th>\n",
       "      <td>2</td>\n",
       "      <td>0</td>\n",
       "      <td>0</td>\n",
       "    </tr>\n",
       "    <tr>\n",
       "      <th>2</th>\n",
       "      <td>3</td>\n",
       "      <td>0</td>\n",
       "      <td>0</td>\n",
       "    </tr>\n",
       "    <tr>\n",
       "      <th>3</th>\n",
       "      <td>4</td>\n",
       "      <td>1</td>\n",
       "      <td>1</td>\n",
       "    </tr>\n",
       "    <tr>\n",
       "      <th>4</th>\n",
       "      <td>5</td>\n",
       "      <td>1</td>\n",
       "      <td>2</td>\n",
       "    </tr>\n",
       "    <tr>\n",
       "      <th>...</th>\n",
       "      <td>...</td>\n",
       "      <td>...</td>\n",
       "      <td>...</td>\n",
       "    </tr>\n",
       "    <tr>\n",
       "      <th>176</th>\n",
       "      <td>177</td>\n",
       "      <td>0</td>\n",
       "      <td>223</td>\n",
       "    </tr>\n",
       "    <tr>\n",
       "      <th>177</th>\n",
       "      <td>178</td>\n",
       "      <td>0</td>\n",
       "      <td>223</td>\n",
       "    </tr>\n",
       "    <tr>\n",
       "      <th>178</th>\n",
       "      <td>179</td>\n",
       "      <td>0</td>\n",
       "      <td>223</td>\n",
       "    </tr>\n",
       "    <tr>\n",
       "      <th>179</th>\n",
       "      <td>180</td>\n",
       "      <td>0</td>\n",
       "      <td>223</td>\n",
       "    </tr>\n",
       "    <tr>\n",
       "      <th>180</th>\n",
       "      <td>181</td>\n",
       "      <td>1</td>\n",
       "      <td>224</td>\n",
       "    </tr>\n",
       "  </tbody>\n",
       "</table>\n",
       "<p>181 rows × 3 columns</p>\n",
       "</div>"
      ],
      "text/plain": [
       "     testing_date  number_of_fault  cum_number_of_fault\n",
       "0               1                0                    0\n",
       "1               2                0                    0\n",
       "2               3                0                    0\n",
       "3               4                1                    1\n",
       "4               5                1                    2\n",
       "..            ...              ...                  ...\n",
       "176           177                0                  223\n",
       "177           178                0                  223\n",
       "178           179                0                  223\n",
       "179           180                0                  223\n",
       "180           181                1                  224\n",
       "\n",
       "[181 rows x 3 columns]"
      ]
     },
     "execution_count": 163,
     "metadata": {},
     "output_type": "execute_result"
    }
   ],
   "source": [
    "df = pd.read_csv(data_path)\n",
    "\n",
    "df['cum_number_of_fault'] = df['number_of_fault'].cumsum()\n",
    "\n",
    "df"
   ]
  },
  {
   "cell_type": "code",
   "execution_count": 164,
   "metadata": {},
   "outputs": [],
   "source": [
    "X = df[['testing_date']].values\n",
    "y = df[['cum_number_of_fault']].values\n",
    "X_train, X_test, y_train, y_test = train_test_split(X, y, test_size=test_size, shuffle=False)\n",
    "\n",
    "scaler_X = MinMaxScaler()\n",
    "scaler_y = MinMaxScaler()\n",
    "X_train = scaler_X.fit_transform(X_train)\n",
    "X_test = scaler_X.transform(X_test)\n",
    "y_train = scaler_y.fit_transform(y_train)\n",
    "y_test = scaler_y.transform(y_test)"
   ]
  },
  {
   "cell_type": "code",
   "execution_count": 165,
   "metadata": {},
   "outputs": [],
   "source": [
    "X_train_tensor = torch.tensor(X_train, dtype=torch.float32)\n",
    "y_train_tensor = torch.tensor(y_train, dtype=torch.float32)\n",
    "X_test_tensor = torch.tensor(X_test, dtype=torch.float32)\n",
    "y_test_tensor = torch.tensor(y_test, dtype=torch.float32)"
   ]
  },
  {
   "cell_type": "code",
   "execution_count": 166,
   "metadata": {},
   "outputs": [
    {
     "name": "stdout",
     "output_type": "stream",
     "text": [
      "epoch=0, MSE: 0.1449, total_bug_est: 1.0100\n",
      "epoch=100, MSE: 0.0006, total_bug_est: 1.0113\n",
      "epoch=200, MSE: 0.0003, total_bug_est: 0.9981\n",
      "epoch=300, MSE: 0.0003, total_bug_est: 0.9924\n",
      "epoch=400, MSE: 0.0003, total_bug_est: 0.9913\n",
      "epoch=500, MSE: 0.0003, total_bug_est: 0.9912\n",
      "epoch=600, MSE: 0.0003, total_bug_est: 0.9914\n",
      "epoch=700, MSE: 0.0003, total_bug_est: 0.9914\n",
      "epoch=800, MSE: 0.0003, total_bug_est: 0.9916\n",
      "epoch=900, MSE: 0.0003, total_bug_est: 0.9917\n"
     ]
    }
   ],
   "source": [
    "model = PredictModel()\n",
    "\n",
    "criterion = nn.MSELoss()\n",
    "optimizer = optim.Adam(model.parameters(), lr=0.01)\n",
    "\n",
    "for epoch in range(epochs):\n",
    "    model.train()\n",
    "\n",
    "    outputs = model(X_train_tensor)\n",
    "    loss = criterion(outputs, y_train_tensor)\n",
    "\n",
    "    optimizer.zero_grad()\n",
    "    loss.backward()\n",
    "    optimizer.step()\n",
    "\n",
    "    if (epoch % 100 == 0):\n",
    "        print(f'{epoch=}, MSE: {loss.item():.4f}, total_bug_est: {model.est.weight.item():.4f}' )"
   ]
  },
  {
   "cell_type": "code",
   "execution_count": 167,
   "metadata": {},
   "outputs": [
    {
     "name": "stdout",
     "output_type": "stream",
     "text": [
      "total fault estimate: 219.14890348911283\n"
     ]
    },
    {
     "data": {
      "image/png": "[encoded data removed]",
      "text/plain": [
       "<Figure size 640x480 with 1 Axes>"
      ]
     },
     "metadata": {},
     "output_type": "display_data"
    },
    {
     "data": {
      "image/png": "[encoded data removed]",
      "text/plain": [
       "<Figure size 640x480 with 1 Axes>"
      ]
     },
     "metadata": {},
     "output_type": "display_data"
    }
   ],
   "source": [
    "model.eval()\n",
    "\n",
    "with torch.no_grad():\n",
    "    y_pred_learning_tensor = model(X_train_tensor)\n",
    "    y_pred_tensor = model(X_test_tensor)\n",
    "\n",
    "total_fault_est = model.est.weight.item()\n",
    "print(f'total fault estimate: {scaler_y.inverse_transform(np.array([[total_fault_est]]))[0, 0]}')\n",
    "\n",
    "plt.figure()\n",
    "plt.plot(df['testing_date'], df['cum_number_of_fault'], label='actual')\n",
    "plt.plot(scaler_X.inverse_transform(X_train_tensor.numpy()), scaler_y.inverse_transform(y_pred_learning_tensor.numpy()), label='predict_learning_data')\n",
    "plt.plot(scaler_X.inverse_transform(X_test_tensor.numpy()), scaler_y.inverse_transform(y_pred_tensor.numpy()), label='predict_test_data')\n",
    "plt.legend()\n",
    "plt.show()\n",
    "\n",
    "plt.figure()\n",
    "plt.plot(scaler_X.transform(df['testing_date'].values.reshape(-1, 1)), scaler_y.transform(df['cum_number_of_fault'].values.reshape(-1, 1)), label='actual')\n",
    "plt.plot(X_train_tensor.numpy(), y_pred_learning_tensor.numpy(), label='predict_learning_data')\n",
    "plt.plot(X_test_tensor.numpy(), y_pred_tensor.numpy(), label='predict_test_data')\n",
    "plt.legend()\n",
    "plt.show()"
   ]
  },
  {
   "cell_type": "code",
   "execution_count": 168,
   "metadata": {},
   "outputs": [
    {
     "name": "stdout",
     "output_type": "stream",
     "text": [
      "tensor([[0.9910],\n",
      "        [0.9910],\n",
      "        [0.9911],\n",
      "        [0.9911]])\n",
      "tensor([[0.9912],\n",
      "        [0.9912],\n",
      "        [0.9913],\n",
      "        [0.9913],\n",
      "        [0.9913],\n",
      "        [0.9914],\n",
      "        [0.9914],\n",
      "        [0.9914],\n",
      "        [0.9914],\n",
      "        [0.9914],\n",
      "        [0.9914],\n",
      "        [0.9915],\n",
      "        [0.9915],\n",
      "        [0.9915],\n",
      "        [0.9915],\n",
      "        [0.9915],\n",
      "        [0.9915],\n",
      "        [0.9915],\n",
      "        [0.9915]])\n"
     ]
    }
   ],
   "source": [
    "print(y_pred_learning_tensor[-5:-1])\n",
    "print(y_pred_tensor)\n"
   ]
  },
  {
   "cell_type": "code",
   "execution_count": 169,
   "metadata": {},
   "outputs": [
    {
     "name": "stdout",
     "output_type": "stream",
     "text": [
      "Name: fc1.weight\n",
      "Param: tensor([[-1.2820],\n",
      "        [-0.5308],\n",
      "        [-0.7958],\n",
      "        [-0.0772],\n",
      "        [-0.7032],\n",
      "        [-0.2308],\n",
      "        [ 0.6448],\n",
      "        [-0.4144],\n",
      "        [-0.9725],\n",
      "        [ 0.5134],\n",
      "        [-1.2831],\n",
      "        [ 1.2217],\n",
      "        [-0.6191],\n",
      "        [-0.7265],\n",
      "        [-0.9359],\n",
      "        [-0.2321],\n",
      "        [ 0.2721],\n",
      "        [-0.4583],\n",
      "        [-0.5821],\n",
      "        [ 0.7840],\n",
      "        [-0.2429],\n",
      "        [-0.2121],\n",
      "        [ 0.9867],\n",
      "        [-0.6793],\n",
      "        [-0.8879],\n",
      "        [ 1.2007],\n",
      "        [-0.7835],\n",
      "        [ 0.9315],\n",
      "        [ 0.1673],\n",
      "        [-0.8083],\n",
      "        [ 0.7926],\n",
      "        [-0.9028]])\n",
      "Name: fc1.bias\n",
      "Param: tensor([ 1.1434e+00, -8.4457e-02, -5.0397e-01, -5.3849e-01, -3.8614e-02,\n",
      "        -9.3908e-01,  4.5526e-01, -9.9361e-01, -3.1499e-01,  1.0014e+00,\n",
      "         9.0056e-01, -6.3784e-01,  5.5546e-01, -8.1524e-01,  1.1855e+00,\n",
      "        -9.8567e-01,  8.1478e-01, -7.5005e-01,  5.2252e-01,  5.0066e-01,\n",
      "         3.3862e-01, -6.4387e-01, -5.1504e-01, -6.9926e-01,  9.9262e-02,\n",
      "         3.9104e-01, -5.6937e-02,  3.0612e-04, -7.9455e-01, -6.5888e-01,\n",
      "         8.5630e-01, -1.3536e-01])\n",
      "Name: fc2.weight\n",
      "Param: tensor([[ 0.2577, -0.0337, -0.0679,  ...,  0.1440,  0.2042, -0.1611],\n",
      "        [-0.0399,  0.1481,  0.0377,  ..., -0.1439, -0.1100,  0.0126],\n",
      "        [-0.1225, -0.0387, -0.1684,  ..., -0.0609,  0.0120,  0.0839],\n",
      "        ...,\n",
      "        [-0.0990,  0.1383, -0.1160,  ...,  0.0061, -0.0404, -0.1430],\n",
      "        [-0.2893,  0.0277, -0.1573,  ...,  0.0139,  0.0168,  0.1381],\n",
      "        [-0.2506,  0.0287, -0.1052,  ...,  0.0970,  0.3129,  0.1188]])\n",
      "Name: fc2.bias\n",
      "Param: tensor([ 0.2679,  0.0414,  0.0136, -0.1168,  0.0183, -0.0111,  0.1336,  0.2988,\n",
      "         0.2252, -0.0960, -0.0258, -0.1712,  0.0722,  0.0505, -0.1410,  0.1361,\n",
      "         0.4114,  0.1049,  0.0369,  0.1770,  0.0671,  0.0206,  0.1046, -0.1223,\n",
      "         0.0891, -0.0775, -0.1008, -0.0788,  0.1547, -0.0237, -0.0403, -0.0902])\n",
      "Name: fc3.weight\n",
      "Param: tensor([[-0.3081,  0.1197, -0.1521, -0.1504, -0.0149, -0.0152,  0.2891, -0.2050,\n",
      "          0.3381,  0.0260,  0.3446, -0.1121,  0.4472, -0.0389, -0.1232, -0.3239,\n",
      "         -0.3138, -0.0580,  0.1748, -0.3719,  0.0266,  0.4494, -0.0715, -0.8483,\n",
      "          0.2922,  0.4252, -0.1401, -0.0581, -0.2503, -0.0986,  0.4023,  0.4271]])\n",
      "Name: fc3.bias\n",
      "Param: tensor([-0.1775])\n",
      "Name: est.weight\n",
      "Param: tensor([[0.9916]])\n"
     ]
    }
   ],
   "source": [
    "# 全てのパラメータを表示\n",
    "for name, param in model.named_parameters():\n",
    "    print(f\"Name: {name}\")\n",
    "    print(f\"Param: {param.data}\")"
   ]
  }
 ],
 "metadata": {
  "kernelspec": {
   "display_name": "python3_11_env",
   "language": "python",
   "name": "python3"
  },
  "language_info": {
   "codemirror_mode": {
    "name": "ipython",
    "version": 3
   },
   "file_extension": ".py",
   "mimetype": "text/x-python",
   "name": "python",
   "nbconvert_exporter": "python",
   "pygments_lexer": "ipython3",
   "version": "3.11.9"
  }
 },
 "nbformat": 4,
 "nbformat_minor": 2
}
